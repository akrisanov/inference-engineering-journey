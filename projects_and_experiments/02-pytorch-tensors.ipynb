{
 "cells": [
  {
   "cell_type": "markdown",
   "id": "dd18a2d7-de2b-4c36-9f96-104cfe4f3cbf",
   "metadata": {},
   "source": [
    "# PyTorch Tensors"
   ]
  },
  {
   "cell_type": "markdown",
   "id": "73b3ad5d-c6f3-4a3f-8586-9f909489544c",
   "metadata": {},
   "source": [
    "## What is a Tensor in PyTorch"
   ]
  },
  {
   "cell_type": "markdown",
   "id": "17609cca-001b-4a4c-a3a8-8177d2537d9e",
   "metadata": {},
   "source": [
    "In PyTorch, a Tensor is the fundamental data structure — basically a multi-dimensional array that can run on both CPU and GPU, similar to NumPy’s `ndarray` but with extra powers:\n",
    "\n",
    "- **Stores numerical data**\n",
    "  - Scalars: `tensor(3.14)` → 0D\n",
    "  - Vectors: `tensor([1, 2, 3])` → 1D\n",
    "  - Matrices: `tensor([[1, 2], [3, 4]])` → 2D\n",
    "  - Higher-dimensional arrays for images, videos, batches, etc.\n",
    "- **Supports automatic differentiation**\n",
    "  - If `requires_grad=True`, PyTorch tracks operations on the tensor so it can compute gradients automatically (used for training neural networks).\n",
    "- **Optimized for hardware acceleration**\n",
    "  - Can live in CPU or GPU memory\n",
    "  - Operations can be vectorized and parallelized for speed\n",
    "- **Interoperable with NumPy**\n",
    "  - You can easily convert between `numpy.ndarray` and `torch.Tensor` without copying data (when on CPU)\n",
    "\n",
    "If you think in math terms:\n",
    "\n",
    "> **Tensor** — generalization of scalars (0D), vectors (1D), and matrices (2D) to n-dimensions.\n",
    "\n",
    "In machine learning, tensors represent data (features, images, audio) and model parameters.\n",
    "\n",
    "| Concept in Math         | In Linear Algebra                    | In PyTorch (or NumPy) |\n",
    "| ----------------------- | ------------------------------------ | --------------------- |\n",
    "| **Scalar**              | Single number                        | 0-D tensor            |\n",
    "| **Vector**              | Ordered list of numbers (1D array)   | 1-D tensor            |\n",
    "| **Matrix**              | Table of numbers with rows & columns | 2-D tensor            |\n",
    "| **Higher-order tensor** | Multi-indexed array (e.g., 3D cube)  | 3-D+ tensor           |\n",
    "Higher-rank tensors have 3+ axes, which don’t have a special name in classical linear algebra but appear naturally in physics, graphics, and ML (e.g., RGB image batches).\n",
    "\n",
    "Operations you know for vectors (addition, scalar multiplication, dot product) are _special cases_ of tensor operations. They work on any dimension, often in a _vectorized_ way."
   ]
  },
  {
   "cell_type": "markdown",
   "id": "9ebab6ba-98ce-4c99-beb5-fff3caa1029d",
   "metadata": {},
   "source": [
    "### Real-world Examples"
   ]
  },
  {
   "cell_type": "markdown",
   "id": "fba839fc-a259-47e0-a1e5-f2fc387a4266",
   "metadata": {},
   "source": [
    "| Name               | Rank | PyTorch example                                  | Shape          | Real‑world example                                  |\n",
    "|--------------------|------|---------------------------------------------------|----------------|-----------------------------------------------------|\n",
    "| Scalar             | 0    | `torch.tensor(21.5)`                              | `()`           | Temperature value (e.g., 21.5 °C)                   |\n",
    "| Vector             | 1    | `torch.randn(300)`                                | `(300,)`       | Word embedding (300‑D)                              |\n",
    "| Matrix             | 2    | `torch.randn(480, 640)`                           | `(480, 640)`   | Grayscale image (height × width)                    |\n",
    "| Rank‑3 tensor      | 3    | `torch.randn(480, 640, 3)`                        | `(480, 640, 3)`| RGB image (height × width × channels)               |"
   ]
  },
  {
   "cell_type": "markdown",
   "id": "9faf1f68-ff28-4da8-9388-166e18b05f38",
   "metadata": {},
   "source": [
    "## Creating 1D Tensors"
   ]
  },
  {
   "cell_type": "code",
   "execution_count": 2,
   "id": "fa4343f8-9a44-42e6-b131-3e99c5309e9e",
   "metadata": {},
   "outputs": [],
   "source": [
    "import torch"
   ]
  },
  {
   "cell_type": "markdown",
   "id": "b01b4ec9-2188-45e2-a38d-69d6ad81b683",
   "metadata": {},
   "source": [
    "### From a Python list"
   ]
  },
  {
   "cell_type": "code",
   "execution_count": 3,
   "id": "87021d3c-b416-4b69-ba85-0088ecace975",
   "metadata": {},
   "outputs": [],
   "source": [
    "t = torch.tensor([1, 2, 3])"
   ]
  },
  {
   "cell_type": "code",
   "execution_count": 4,
   "id": "07617525-e9ff-4376-ad8d-889d430000bb",
   "metadata": {},
   "outputs": [
    {
     "data": {
      "text/plain": [
       "tensor([1, 2, 3])"
      ]
     },
     "execution_count": 4,
     "metadata": {},
     "output_type": "execute_result"
    }
   ],
   "source": [
    "t"
   ]
  },
  {
   "cell_type": "code",
   "execution_count": 5,
   "id": "fc760595-4961-46fe-acc5-772b9dc13595",
   "metadata": {},
   "outputs": [
    {
     "data": {
      "text/plain": [
       "torch.Size([3])"
      ]
     },
     "execution_count": 5,
     "metadata": {},
     "output_type": "execute_result"
    }
   ],
   "source": [
    "t.shape"
   ]
  },
  {
   "cell_type": "markdown",
   "id": "5422864e-66ce-45f0-b69c-5b3b93f3e04a",
   "metadata": {},
   "source": [
    "> 💡 Best for small, fixed data."
   ]
  },
  {
   "cell_type": "markdown",
   "id": "6e63208d-a911-4f61-8214-2e01245e3b7c",
   "metadata": {},
   "source": [
    "Data type (`dtype`) is inferred but can be set explicitly:"
   ]
  },
  {
   "cell_type": "code",
   "execution_count": 7,
   "id": "dc3d58a5-53d0-420b-a583-532ce47b4673",
   "metadata": {},
   "outputs": [],
   "source": [
    "t = torch.tensor([1.0, 2.0, 3.0], dtype=torch.float32)"
   ]
  },
  {
   "cell_type": "markdown",
   "id": "0095ba24-5985-46ce-8473-69aee694b11a",
   "metadata": {},
   "source": [
    "### Using `torch.arange`"
   ]
  },
  {
   "cell_type": "code",
   "execution_count": 8,
   "id": "5f585fff-724f-47a2-a9e5-d6159afd379f",
   "metadata": {},
   "outputs": [],
   "source": [
    "t = torch.arange(0, 5)"
   ]
  },
  {
   "cell_type": "code",
   "execution_count": 9,
   "id": "fd0386fd-d1ea-494a-b762-609994f0200b",
   "metadata": {},
   "outputs": [
    {
     "data": {
      "text/plain": [
       "tensor([0, 1, 2, 3, 4])"
      ]
     },
     "execution_count": 9,
     "metadata": {},
     "output_type": "execute_result"
    }
   ],
   "source": [
    "t"
   ]
  },
  {
   "cell_type": "code",
   "execution_count": 10,
   "id": "bfb124c4-7adb-45eb-8025-e07837e10cb8",
   "metadata": {},
   "outputs": [],
   "source": [
    "t = torch.arange(0, 10, 2)"
   ]
  },
  {
   "cell_type": "code",
   "execution_count": 11,
   "id": "b20cf640-5494-4682-99ef-192933e4287f",
   "metadata": {},
   "outputs": [
    {
     "data": {
      "text/plain": [
       "tensor([0, 2, 4, 6, 8])"
      ]
     },
     "execution_count": 11,
     "metadata": {},
     "output_type": "execute_result"
    }
   ],
   "source": [
    "t"
   ]
  },
  {
   "cell_type": "markdown",
   "id": "0090db11-6e31-4c06-bde8-b41c9f2e78a6",
   "metadata": {},
   "source": [
    "Works like Python’s range, but returns a tensor."
   ]
  },
  {
   "cell_type": "markdown",
   "id": "14d887d2-80dd-44bf-884a-a878ba6bbac6",
   "metadata": {},
   "source": [
    "### Using `torch.linspace`"
   ]
  },
  {
   "cell_type": "code",
   "execution_count": 12,
   "id": "88e0ad62-c76a-4ec3-ba40-9a11128a136b",
   "metadata": {},
   "outputs": [],
   "source": [
    "t = torch.linspace(0, 1, steps=5)"
   ]
  },
  {
   "cell_type": "code",
   "execution_count": 13,
   "id": "204a2ebf-183c-4168-895d-55f83200aca9",
   "metadata": {},
   "outputs": [
    {
     "data": {
      "text/plain": [
       "tensor([0.0000, 0.2500, 0.5000, 0.7500, 1.0000])"
      ]
     },
     "execution_count": 13,
     "metadata": {},
     "output_type": "execute_result"
    }
   ],
   "source": [
    "t"
   ]
  },
  {
   "cell_type": "markdown",
   "id": "487e55ec-ced6-49a1-855a-5509ab8cc3f1",
   "metadata": {},
   "source": [
    "Creates evenly spaced numbers between start and end."
   ]
  },
  {
   "cell_type": "markdown",
   "id": "937364d1-e5cf-4df4-a299-e7fe7ae33a70",
   "metadata": {},
   "source": [
    "### Random initialization"
   ]
  },
  {
   "cell_type": "code",
   "execution_count": 18,
   "id": "189d71d7-877a-4c18-860d-3e04902193bb",
   "metadata": {},
   "outputs": [],
   "source": [
    "t = torch.rand(5) # uniform"
   ]
  },
  {
   "cell_type": "code",
   "execution_count": 15,
   "id": "91ec0829-6c8e-467c-8c0f-9023515a7b37",
   "metadata": {},
   "outputs": [
    {
     "data": {
      "text/plain": [
       "tensor([0.2289, 0.2132, 0.2098, 0.1100, 0.2262])"
      ]
     },
     "execution_count": 15,
     "metadata": {},
     "output_type": "execute_result"
    }
   ],
   "source": [
    "t"
   ]
  },
  {
   "cell_type": "code",
   "execution_count": 16,
   "id": "3da64eaa-7872-4783-a3dd-2514ac9c8a89",
   "metadata": {},
   "outputs": [],
   "source": [
    "t = torch.randn(5) # normal distribution (mean=0, std=1)"
   ]
  },
  {
   "cell_type": "code",
   "execution_count": 17,
   "id": "afe56afd-ab0f-406b-bbe7-cfda0993e068",
   "metadata": {},
   "outputs": [
    {
     "data": {
      "text/plain": [
       "tensor([-2.9893,  1.4838,  0.9708, -0.6635,  1.1160])"
      ]
     },
     "execution_count": 17,
     "metadata": {},
     "output_type": "execute_result"
    }
   ],
   "source": [
    "t"
   ]
  },
  {
   "cell_type": "markdown",
   "id": "a9da3581-5e97-41fa-8ef5-73c78a71b5cc",
   "metadata": {},
   "source": [
    "### From NumPy arrays"
   ]
  },
  {
   "cell_type": "code",
   "execution_count": 19,
   "id": "7f502a4b-446a-46e4-962c-5a5e5b098bd6",
   "metadata": {},
   "outputs": [],
   "source": [
    "import numpy as np"
   ]
  },
  {
   "cell_type": "code",
   "execution_count": 20,
   "id": "c92fd5a1-a71d-41ae-b506-b652135bce29",
   "metadata": {},
   "outputs": [],
   "source": [
    "arr = np.array([1, 2, 3])\n",
    "t = torch.from_numpy(arr)"
   ]
  },
  {
   "cell_type": "code",
   "execution_count": 21,
   "id": "e5836224-a3f3-4b9f-b912-2cd45309bde7",
   "metadata": {},
   "outputs": [
    {
     "data": {
      "text/plain": [
       "tensor([1, 2, 3])"
      ]
     },
     "execution_count": 21,
     "metadata": {},
     "output_type": "execute_result"
    }
   ],
   "source": [
    "t"
   ]
  },
  {
   "cell_type": "markdown",
   "id": "9c1c95da-cd54-48b5-90fa-23a09e82bca8",
   "metadata": {},
   "source": [
    "⚠️ Shares memory with the NumPy array (changes in one affect the other if on CPU)."
   ]
  },
  {
   "cell_type": "markdown",
   "id": "5fc5ade8-eb22-42df-b7f6-22393a664c44",
   "metadata": {},
   "source": [
    "---"
   ]
  },
  {
   "cell_type": "markdown",
   "id": "95753b6d-1028-4bea-84c4-1f5461ad0d93",
   "metadata": {},
   "source": [
    "> A 1D tensor’s shape will be something like (n,) — one axis, length n."
   ]
  },
  {
   "cell_type": "markdown",
   "id": "a92a7bb3-9ec9-4d05-9e1f-a97326e426a5",
   "metadata": {},
   "source": [
    "---"
   ]
  },
  {
   "cell_type": "markdown",
   "id": "0f4589d3-ab18-4ae9-a2f3-9bd6c96808fb",
   "metadata": {},
   "source": [
    "## Addition & scalar multiplication"
   ]
  },
  {
   "cell_type": "markdown",
   "id": "7907be55-5fd2-4aa5-a51d-c3e2686a3df1",
   "metadata": {},
   "source": [
    "How it works in practice:"
   ]
  },
  {
   "cell_type": "code",
   "execution_count": 29,
   "id": "8b42922f-729a-4214-b62b-e06fe30858a1",
   "metadata": {},
   "outputs": [],
   "source": [
    "import torch\n",
    "\n",
    "# Create two 1D tensors (vectors)\n",
    "a = torch.tensor([2.0, -1.0, 3.0])\n",
    "b = torch.tensor([1.0, 4.0, -2.0])\n",
    "\n",
    "# Vector addition\n",
    "sum_ab = a + b # tensor([3., 3., 1.])\n",
    "\n",
    "# Scalar multiplication\n",
    "scalar_mult = 3 * a # tensor([ 6., -3.,  9.])"
   ]
  },
  {
   "cell_type": "markdown",
   "id": "793d9bf4-0b2b-420d-9043-7b5780289ced",
   "metadata": {},
   "source": [
    "### Manual verification"
   ]
  },
  {
   "cell_type": "code",
   "execution_count": 28,
   "id": "773c2285-3d66-4a19-a4d7-c7342378bc38",
   "metadata": {},
   "outputs": [],
   "source": [
    "manual_sum = torch.tensor([a[0]+b[0], a[1]+b[1], a[2]+b[2]]) # same as sum_ab"
   ]
  },
  {
   "cell_type": "code",
   "execution_count": 25,
   "id": "fb5414a0-f519-42cb-833a-74ea25a5d176",
   "metadata": {},
   "outputs": [
    {
     "data": {
      "text/plain": [
       "tensor([3., 3., 1.])"
      ]
     },
     "execution_count": 25,
     "metadata": {},
     "output_type": "execute_result"
    }
   ],
   "source": [
    "manual_sum"
   ]
  },
  {
   "cell_type": "code",
   "execution_count": 26,
   "id": "f910630e-aec9-4e6b-a4a3-9ba1f1417afe",
   "metadata": {},
   "outputs": [],
   "source": [
    "manual_scalar = torch.tensor([3*a[0], 3*a[1], 3*a[2]]) # same as scalar_mult"
   ]
  },
  {
   "cell_type": "code",
   "execution_count": 27,
   "id": "3996a0fc-51e7-4791-aca1-270c8bf93ee2",
   "metadata": {},
   "outputs": [
    {
     "data": {
      "text/plain": [
       "tensor([ 6., -3.,  9.])"
      ]
     },
     "execution_count": 27,
     "metadata": {},
     "output_type": "execute_result"
    }
   ],
   "source": [
    "manual_scalar"
   ]
  },
  {
   "cell_type": "markdown",
   "id": "632e4e59-e449-4c58-af61-c873efe52142",
   "metadata": {},
   "source": [
    "This is exactly how you’d do it in linear algebra — PyTorch just vectorizes it."
   ]
  },
  {
   "cell_type": "markdown",
   "id": "8374cce0-2302-4c9c-a789-b0eabd1c1a91",
   "metadata": {},
   "source": [
    "### Note about vectorization"
   ]
  },
  {
   "cell_type": "markdown",
   "id": "f4f4936c-d2a0-4db4-bcf9-8206146fc547",
   "metadata": {},
   "source": [
    "When we say “PyTorch just vectorizes it”, we mean that PyTorch applies the operation to every element of the tensor at once, without you writing an explicit `for` loop."
   ]
  },
  {
   "cell_type": "markdown",
   "id": "eff7ebce-f469-497d-aee2-ac5c88de5440",
   "metadata": {},
   "source": [
    "Non-vectorized (manual loop):"
   ]
  },
  {
   "cell_type": "code",
   "execution_count": 30,
   "id": "c2b32feb-dffc-443e-9d8f-fdf1613e2782",
   "metadata": {},
   "outputs": [],
   "source": [
    "result = []\n",
    "for i in range(len(a)):\n",
    "    result.append(a[i] + b[i])"
   ]
  },
  {
   "cell_type": "code",
   "execution_count": 31,
   "id": "729f2dca-a466-4cc8-be67-66b568b80633",
   "metadata": {},
   "outputs": [
    {
     "data": {
      "text/plain": [
       "[tensor(3.), tensor(3.), tensor(1.)]"
      ]
     },
     "execution_count": 31,
     "metadata": {},
     "output_type": "execute_result"
    }
   ],
   "source": [
    "result"
   ]
  },
  {
   "cell_type": "markdown",
   "id": "7f613588-2a8f-4739-bc63-267d702495d2",
   "metadata": {},
   "source": [
    "Vectorized (PyTorch style):"
   ]
  },
  {
   "cell_type": "code",
   "execution_count": 32,
   "id": "bcbb70ea-fd0b-48ef-91d8-66d2e4daca02",
   "metadata": {},
   "outputs": [],
   "source": [
    "result = a + b"
   ]
  },
  {
   "cell_type": "code",
   "execution_count": 33,
   "id": "566b4e7c-625a-47b0-8193-c52ee635acb7",
   "metadata": {},
   "outputs": [
    {
     "data": {
      "text/plain": [
       "tensor([3., 3., 1.])"
      ]
     },
     "execution_count": 33,
     "metadata": {},
     "output_type": "execute_result"
    }
   ],
   "source": [
    "result"
   ]
  },
  {
   "cell_type": "markdown",
   "id": "c9b13851-4944-436f-a285-636ffe1425c7",
   "metadata": {},
   "source": [
    "PyTorch does the looping internally in optimized C/CUDA code, so:\n",
    "\n",
    "- It’s much faster (can use CPU SIMD instructions or GPU parallelism)\n",
    "- It’s cleaner to read and write\n",
    "- The same syntax works for scalars, vectors, matrices, and higher-rank tensors\n",
    "\n",
    "So when you write `a + b` in PyTorch, it’s doing element-wise addition across all elements at once — that’s vectorization."
   ]
  },
  {
   "cell_type": "markdown",
   "id": "df4ae386-b489-4707-be80-3ddd2c786cd0",
   "metadata": {},
   "source": [
    "<img src=\"img/01.png\" width=\"350\">"
   ]
  }
 ],
 "metadata": {
  "kernelspec": {
   "display_name": "Python 3 (ipykernel)",
   "language": "python",
   "name": "python3"
  },
  "language_info": {
   "codemirror_mode": {
    "name": "ipython",
    "version": 3
   },
   "file_extension": ".py",
   "mimetype": "text/x-python",
   "name": "python",
   "nbconvert_exporter": "python",
   "pygments_lexer": "ipython3",
   "version": "3.12.11"
  }
 },
 "nbformat": 4,
 "nbformat_minor": 5
}
